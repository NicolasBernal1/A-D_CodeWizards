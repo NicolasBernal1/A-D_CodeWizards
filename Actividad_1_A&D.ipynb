{
  "nbformat": 4,
  "nbformat_minor": 0,
  "metadata": {
    "colab": {
      "provenance": [],
      "include_colab_link": true
    },
    "kernelspec": {
      "name": "python3",
      "display_name": "Python 3"
    },
    "language_info": {
      "name": "python"
    }
  },
  "cells": [
    {
      "cell_type": "markdown",
      "metadata": {
        "id": "view-in-github",
        "colab_type": "text"
      },
      "source": [
        "<a href=\"https://colab.research.google.com/github/NicolasBernal1/A-D_CodeWizards/blob/main/Actividad_1_A%26D.ipynb\" target=\"_parent\"><img src=\"https://colab.research.google.com/assets/colab-badge.svg\" alt=\"Open In Colab\"/></a>"
      ]
    },
    {
      "cell_type": "markdown",
      "source": [
        "CodeWizards"
      ],
      "metadata": {
        "id": "C5k2cRl28Ao6"
      }
    },
    {
      "cell_type": "code",
      "source": [
        "def diagonal_indices(size):\n",
        "    indices = []  #O(0) #Complejidad constante\n",
        "    for suma in range(2 * size - 1): #O(size) #Complejidad lineal\n",
        "        for i in range(size): #O(size^2) #Complejidad lineal\n",
        "            j = suma - i #O(0) #Complejidad constante\n",
        "            if 0 <= j < size and 0 <= i < size: #O(0) #Complejidad constante\n",
        "                if suma % 2 == 0: #O(0) #Complejidad constante\n",
        "                    indices.append((size - 1 - j, size - 1 - i)) #O(0) #Complejidad constante\n",
        "                else: #O(0)#Complejidad constante\n",
        "                    indices.append((size - 1 - i, size - 1 - j)) #O(0) #Complejidad constante\n",
        "    return indices  #O(0) #Complejidad constante\n",
        "\n",
        "n = 3 #O(0) #Complejidad constante\n",
        "print(diagonal_indices(n)) #O(0)\n",
        "\n",
        "# O(size^2) + O(size) + 10O(0)\n",
        "# -> O(size^2)"
      ],
      "metadata": {
        "id": "B352Isz0GrjN"
      },
      "execution_count": null,
      "outputs": []
    },
    {
      "cell_type": "markdown",
      "source": [
        "Matriz 1 (No recursiva)"
      ],
      "metadata": {
        "id": "w0KdyPQ37joR"
      }
    },
    {
      "cell_type": "code",
      "source": [
        "def diagonal_indices(size):\n",
        "  #Complejidad constante\n",
        "    indices = []  # O(1)\n",
        "    #Complejidad lineal\n",
        "    for suma in range(2 * size - 1): #O(size^2)\n",
        "        for i in range(size): #O(size^2)\n",
        "            j = suma - i #O(size^2)\n",
        "            if 0 <= j < size and 0 <= i < size: #O(size^2)\n",
        "                if suma % 2 == 0: #O(size^2)\n",
        "                    indices.append((size - 1 - j, size - 1 - i)) #O(size^2)\n",
        "                else: #O(size^2)\n",
        "                    indices.append((size - 1 - i, size - 1 - j)) #O(size^2)\n",
        "    return indices  # O(1)\n",
        "\n",
        "#Complejidad constante\n",
        "n = 3 #O(1)\n",
        "print(diagonal_indices(n)) #O(1)\n",
        "\n",
        "#O(size^2) + 4O(1)"
      ],
      "metadata": {
        "id": "98pieLyrEbH4"
      },
      "execution_count": null,
      "outputs": []
    },
    {
      "cell_type": "markdown",
      "source": [
        "Ejercicio 1 (Recursivo)"
      ],
      "metadata": {
        "id": "CqmbR9Eb7j5S"
      }
    },
    {
      "cell_type": "code",
      "execution_count": null,
      "metadata": {
        "id": "EEmPeAEd7j5T"
      },
      "outputs": [],
      "source": [
        "# Crea una función recursiva que sume todos los elementos de un array (supongase todos los elementos son digitos)\n",
        "\n",
        "# Hecho por un humano, xd\n",
        "def array_sum(array: list, current_index = 0, counter = 0):\n",
        "  if len(array) == 0:\n",
        "    return 0\n",
        "  elif len(array) == current_index + 1:\n",
        "    return array[current_index] + counter\n",
        "  counter += array[current_index]\n",
        "  return array_sum(array, current_index + 1, counter)\n",
        "\n",
        "# Pruebas (con assert). By chatgpt (te amamos, gpt)\n",
        "def test_integer_array_sum():\n",
        "    arr = [1, 2, 3, 4, 5]\n",
        "    assert array_sum(arr) == sum(arr)\n",
        "\n",
        "def test_float_array_sum():\n",
        "    arr = [1.5, 2.5, 3.5, 4.5, 5.5]\n",
        "    assert array_sum(arr) == sum(arr)\n",
        "\n",
        "def test_empty_array_sum():\n",
        "    arr = []\n",
        "    assert array_sum(arr) == 0\n",
        "\n",
        "def test_negative_array_sum():\n",
        "    arr = [-1, -2, -3, -4, -5]\n",
        "    assert array_sum(arr) == sum(arr)\n",
        "\n",
        "def test_mixed_array_sum():\n",
        "    arr = [1, 2.5, 3, 4.5, 5]\n",
        "    assert array_sum(arr) == sum(arr)\n",
        "\n",
        "def test_duplicate_elements_array_sum():\n",
        "    arr = [2, 2, 3, 3, 4, 4, 5, 5]\n",
        "    assert array_sum(arr) == sum(arr)\n",
        "\n",
        "# Ejecutar los casos de prueba\n",
        "test_integer_array_sum()\n",
        "test_float_array_sum()\n",
        "test_empty_array_sum()\n",
        "test_negative_array_sum()\n",
        "test_mixed_array_sum()\n",
        "test_duplicate_elements_array_sum()"
      ]
    },
    {
      "cell_type": "markdown",
      "source": [
        "### Ejercicio 2 (Recursivo)\n",
        "*Implementa una función recursiva que cuente el número de\n",
        "dígitos en un número entero.*"
      ],
      "metadata": {
        "id": "RpOPw10N7kGa"
      }
    },
    {
      "cell_type": "code",
      "execution_count": null,
      "metadata": {
        "id": "AcLeMKOd7kGa",
        "colab": {
          "base_uri": "https://localhost:8080/"
        },
        "outputId": "78ce9f96-55d7-47fd-8b06-7863a3b662fe"
      },
      "outputs": [
        {
          "output_type": "stream",
          "name": "stdout",
          "text": [
            "5\n"
          ]
        }
      ],
      "source": [
        "def contar_digitos(n):\n",
        "  if n < 10:\n",
        "    return 1\n",
        "  else:\n",
        "    return 1 + contar_digitos(n // 10)\n",
        "\n",
        "numero = 12345\n",
        "print(contar_digitos(numero))"
      ]
    },
    {
      "cell_type": "markdown",
      "source": [
        "### Ejercicio 3 (Recursivo)\n",
        "*Desarrolla una función recursiva que sume todos los dígitos\n",
        "de un número entero.*"
      ],
      "metadata": {
        "id": "uJBxRfsK7bT1"
      }
    },
    {
      "cell_type": "code",
      "execution_count": null,
      "metadata": {
        "id": "K0Lhsl4U7V3w",
        "colab": {
          "base_uri": "https://localhost:8080/"
        },
        "outputId": "16c371da-f8d3-42f5-b5a7-2ef9c934ba66"
      },
      "outputs": [
        {
          "output_type": "stream",
          "name": "stdout",
          "text": [
            "15\n"
          ]
        }
      ],
      "source": [
        "def digit_sum(num, sum=0):\n",
        "    if(num == 0):\n",
        "        print(sum)\n",
        "        return\n",
        "\n",
        "    sum += (num%10)\n",
        "    num = num//10\n",
        "    digit_sum(num, sum)\n",
        "\n",
        "digit_sum(12345)"
      ]
    }
  ]
}